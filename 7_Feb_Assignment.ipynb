{
 "cells": [
  {
   "cell_type": "code",
   "execution_count": 1,
   "id": "978325ed-0038-46b3-9292-5cf681604104",
   "metadata": {},
   "outputs": [
    {
     "data": {
      "text/plain": [
       "'Note: 1. The Password should contain at least two uppercase letters and at least two lowercase letters.\\n2. The Password should contain at least a number and three special characters.\\n3. The length of the password should be 10 characters long.'"
      ]
     },
     "execution_count": 1,
     "metadata": {},
     "output_type": "execute_result"
    }
   ],
   "source": [
    "#Q1. You are writing code for a company. The requirement of the company is that you create a python function that will check whether the password entered by the user is correct or not. The function should take the password as input and return the string \"Valid Password\" if the entered password follows the below-given password guidelines else it should return \"Invalid Password\".\n",
    "\n",
    "\"\"\"Note: 1. The Password should contain at least two uppercase letters and at least two lowercase letters.\n",
    "2. The Password should contain at least a number and three special characters.\n",
    "3. The length of the password should be 10 characters long.\"\"\""
   ]
  },
  {
   "cell_type": "code",
   "execution_count": 7,
   "id": "c67e492a-aae8-4b43-a322-887ac114157c",
   "metadata": {},
   "outputs": [],
   "source": [
    "def check_password(Password):\n",
    "    password = input(\"Enter Password\")\n",
    "    \n",
    "    return(\"I am not aware about it\")\n"
   ]
  },
  {
   "cell_type": "code",
   "execution_count": 8,
   "id": "b79e83ca-8130-44ed-a3cb-976a7edcd024",
   "metadata": {},
   "outputs": [
    {
     "name": "stdin",
     "output_type": "stream",
     "text": [
      "Enter Password 44654644vdkjfj\n"
     ]
    },
    {
     "data": {
      "text/plain": [
       "'I am not aware about it'"
      ]
     },
     "execution_count": 8,
     "metadata": {},
     "output_type": "execute_result"
    }
   ],
   "source": [
    "check_password(5454)"
   ]
  },
  {
   "cell_type": "code",
   "execution_count": 19,
   "id": "5c851007-e413-4689-9a91-8a457d5dc37c",
   "metadata": {},
   "outputs": [
    {
     "name": "stdin",
     "output_type": "stream",
     "text": [
      "Enter your password:  54654\n"
     ]
    },
    {
     "name": "stdout",
     "output_type": "stream",
     "text": [
      "Invalid Password\n"
     ]
    }
   ],
   "source": [
    "import string\n",
    "\n",
    "def check_password(password):\n",
    "    # Check length\n",
    "    if len(password) != 10:\n",
    "        return \"Invalid Password\"\n",
    "\n",
    "    # Count uppercase, lowercase, digits, and special characters\n",
    "    uppercase_count = sum(1 for char in password if char.isupper())\n",
    "    lowercase_count = sum(1 for char in password if char.islower())\n",
    "    digit_count = sum(1 for char in password if char.isdigit())\n",
    "    special_char_count = sum(1 for char in password if char in string.punctuation)\n",
    "\n",
    "    # Check conditions\n",
    "    if uppercase_count >= 2 and lowercase_count >= 2 and digit_count >= 1 and special_char_count >= 3:\n",
    "        return \"Valid Password\"\n",
    "    else:\n",
    "        return \"Invalid Password\"\n",
    "\n",
    "# Example usage:\n",
    "user_password = input(\"Enter your password: \")\n",
    "result = check_password(user_password)\n",
    "print(result)\n"
   ]
  },
  {
   "cell_type": "code",
   "execution_count": 20,
   "id": "2a3cdce9-4c8e-4ad9-9a35-a77b030a6520",
   "metadata": {},
   "outputs": [
    {
     "data": {
      "text/plain": [
       "' Q2. Solve the below-given questions using at least one of the following:\\n1. Lambda functioJ\\n2. Filter functioJ\\n3. Zap functioJ\\n4. List ComprehensioI\\nB Check if the string starts with a particular letterY\\nB Check if the string is numericY\\nB Sort a list of tuples having fruit names and their quantity. [(\"mango\",99),(\"orange\",80), (\"grapes\", 1000)-\\nB Find the squares of numbers from 1 to 10Y\\nB Find the cube root of numbers from 1 to 10Y\\nB Check if a given number is evenY\\nB Filter odd numbers from the given list.\\n[1,2,3,4,5,6,7,8,9,10-\\nB Sort a list of integers into positive and negative integers lists.\\n[1,2,3,4,5,6,-1,-2,-3,-4,-5,0] '"
      ]
     },
     "execution_count": 20,
     "metadata": {},
     "output_type": "execute_result"
    }
   ],
   "source": [
    "\"\"\" Q2. Solve the below-given questions using at least one of the following:\n",
    "1. Lambda functioJ\n",
    "2. Filter functioJ\n",
    "3. Zap functioJ\n",
    "4. List ComprehensioI\n",
    "B Check if the string starts with a particular letterY\n",
    "B Check if the string is numericY\n",
    "B Sort a list of tuples having fruit names and their quantity. [(\"mango\",99),(\"orange\",80), (\"grapes\", 1000)-\n",
    "B Find the squares of numbers from 1 to 10Y\n",
    "B Find the cube root of numbers from 1 to 10Y\n",
    "B Check if a given number is evenY\n",
    "B Filter odd numbers from the given list.\n",
    "[1,2,3,4,5,6,7,8,9,10-\n",
    "B Sort a list of integers into positive and negative integers lists.\n",
    "[1,2,3,4,5,6,-1,-2,-3,-4,-5,0] \"\"\""
   ]
  },
  {
   "cell_type": "code",
   "execution_count": 21,
   "id": "1192d69e-9f8c-47f2-b883-93ec49b56e46",
   "metadata": {},
   "outputs": [
    {
     "name": "stdout",
     "output_type": "stream",
     "text": [
      "True\n"
     ]
    }
   ],
   "source": [
    "check_starts_with = lambda string, letter: string.startswith(letter)\n",
    "result = check_starts_with(\"Python\", \"P\")\n",
    "print(result)  # Output: True\n"
   ]
  },
  {
   "cell_type": "code",
   "execution_count": 22,
   "id": "6f185626-68cc-456d-abf1-67dd4fef9fef",
   "metadata": {},
   "outputs": [
    {
     "name": "stdout",
     "output_type": "stream",
     "text": [
      "True\n"
     ]
    }
   ],
   "source": [
    "check_numeric = lambda string: string.isnumeric()\n",
    "result = check_numeric(\"123\")\n",
    "print(result)  # Output: True\n"
   ]
  },
  {
   "cell_type": "code",
   "execution_count": 23,
   "id": "cca3b4b4-dead-4411-8b9b-3c405824ace7",
   "metadata": {},
   "outputs": [
    {
     "name": "stdout",
     "output_type": "stream",
     "text": [
      "[('orange', 80), ('mango', 99), ('grapes', 1000)]\n"
     ]
    }
   ],
   "source": [
    "fruit_list = [(\"mango\", 99), (\"orange\", 80), (\"grapes\", 1000)]\n",
    "sorted_fruit_list = sorted(fruit_list, key=lambda x: x[1])\n",
    "print(sorted_fruit_list)\n",
    "# Output: [('orange', 80), ('mango', 99), ('grapes', 1000)]\n"
   ]
  },
  {
   "cell_type": "code",
   "execution_count": 24,
   "id": "9e935b71-10b0-4da9-8063-abaaaa801d8f",
   "metadata": {},
   "outputs": [
    {
     "name": "stdout",
     "output_type": "stream",
     "text": [
      "Positive Numbers: [1, 2, 3, 4, 5, 6]\n",
      "Negative Numbers: [-1, -2, -3, -4, -5]\n"
     ]
    }
   ],
   "source": [
    "integer_list = [1, 2, 3, 4, 5, 6, -1, -2, -3, -4, -5, 0]\n",
    "positive_numbers = list(filter(lambda x: x > 0, integer_list))\n",
    "negative_numbers = list(filter(lambda x: x < 0, integer_list))\n",
    "print(\"Positive Numbers:\", positive_numbers)\n",
    "print(\"Negative Numbers:\", negative_numbers)\n",
    "# Output: Positive Numbers: [1, 2, 3, 4, 5, 6]\n",
    "#         Negative Numbers: [-1, -2, -3, -4, -5]\n"
   ]
  },
  {
   "cell_type": "code",
   "execution_count": 25,
   "id": "66dd1606-2e67-4a8e-8a63-d128dc5050b4",
   "metadata": {},
   "outputs": [
    {
     "name": "stdout",
     "output_type": "stream",
     "text": [
      "[1, 3, 5, 7, 9]\n"
     ]
    }
   ],
   "source": [
    "numbers = [1, 2, 3, 4, 5, 6, 7, 8, 9, 10]\n",
    "filtered_odd = list(filter(lambda x: x % 2 != 0, numbers))\n",
    "print(filtered_odd)\n",
    "# Output: [1, 3, 5, 7, 9]\n"
   ]
  },
  {
   "cell_type": "code",
   "execution_count": 26,
   "id": "0a7d8cf3-f375-4e07-b7f7-2406459e7f96",
   "metadata": {},
   "outputs": [
    {
     "name": "stdout",
     "output_type": "stream",
     "text": [
      "True\n"
     ]
    }
   ],
   "source": [
    "check_even = lambda num: num % 2 == 0\n",
    "result = check_even(4)\n",
    "print(result)  # Output: True\n"
   ]
  },
  {
   "cell_type": "code",
   "execution_count": 27,
   "id": "dd70840e-4ad8-48a1-ba9e-46afbc26765b",
   "metadata": {},
   "outputs": [
    {
     "name": "stdout",
     "output_type": "stream",
     "text": [
      "[1.0, 1.2599210498948732, 1.4422495703074083, 1.5874010519681994, 1.7099759466766968, 1.8171205928321397, 1.912931182772389, 2.0, 2.080083823051904, 2.154434690031884]\n"
     ]
    }
   ],
   "source": [
    "import math\n",
    "cube_roots = [math.pow(x, 1/3) for x in range(1, 11)]\n",
    "print(cube_roots)\n",
    "# Output: [1.0, 1.2599210498948732, 1.4422495703074083, 1.5874010519681994, 1.7099759466766968, 1.8171205928321397, 1.912931182772389, 2.0, 2.080083823051904, 2.154434690031884]\n"
   ]
  },
  {
   "cell_type": "code",
   "execution_count": null,
   "id": "3d83ed7e-2849-474d-83f3-5367c524c61f",
   "metadata": {},
   "outputs": [],
   "source": []
  }
 ],
 "metadata": {
  "kernelspec": {
   "display_name": "Python 3 (ipykernel)",
   "language": "python",
   "name": "python3"
  },
  "language_info": {
   "codemirror_mode": {
    "name": "ipython",
    "version": 3
   },
   "file_extension": ".py",
   "mimetype": "text/x-python",
   "name": "python",
   "nbconvert_exporter": "python",
   "pygments_lexer": "ipython3",
   "version": "3.10.8"
  }
 },
 "nbformat": 4,
 "nbformat_minor": 5
}
